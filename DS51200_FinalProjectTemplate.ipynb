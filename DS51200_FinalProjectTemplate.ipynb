{
 "cells": [
  {
   "cell_type": "markdown",
   "id": "45762487-d33f-486d-8e38-2cdea04e3528",
   "metadata": {},
   "source": [
    "# Final Project Report\n",
    "\n",
    "* Class: DS 5100\n",
    "* Student Name: Lucy Shichman\n",
    "* Student Net ID: lgs4zj\n",
    "* This URL: a URL to the notebook source of this document"
   ]
  },
  {
   "cell_type": "markdown",
   "id": "acf756c1-ecaa-41dc-b6ca-d566eb94560b",
   "metadata": {},
   "source": [
    "# Instructions\n",
    "\n",
    "Follow the instructions in the Final Project isntructions notebook and put evidence of your work in this notebook.\n",
    "\n",
    "Total points for each subsection under **Deliverables** and **Scenarios** are given in parentheses.\n",
    "\n",
    "Breakdowns of points within subsections are specified within subsection instructions as bulleted lists.\n",
    "\n",
    "This project is worth **50 points**."
   ]
  },
  {
   "cell_type": "markdown",
   "id": "89dc7a32-f682-4402-8c1e-b6ccdb3e0e39",
   "metadata": {},
   "source": [
    "# Deliverables"
   ]
  },
  {
   "cell_type": "markdown",
   "id": "d32cb273-9a40-4909-a7ce-51f6e4958d3c",
   "metadata": {},
   "source": [
    "## The Monte Carlo Module (10)\n",
    "\n",
    "- URL included, appropriately named (1).\n",
    "- Includes all three specified classes (3).\n",
    "- Includes at least all 12 specified methods (6; .5 each)."
   ]
  },
  {
   "cell_type": "markdown",
   "id": "f5f3b070-de9e-4de9-bfae-8974d184aa28",
   "metadata": {},
   "source": [
    "Put the URL to your GitHub repo here.\n",
    "\n",
    "Repo URL: https://github.com/Lucy-Shichman/DS5100-finalproject-lgs4zj"
   ]
  },
  {
   "cell_type": "markdown",
   "id": "162370fb-3729-4c85-b040-8c25b2c966d2",
   "metadata": {},
   "source": [
    "Paste a copyy of your module here.\n",
    "\n",
    "NOTE: Paste as text, not as code. Use triple backticks to wrap your code blocks."
   ]
  },
  {
   "cell_type": "markdown",
   "id": "1f47488b-83a1-44b1-a386-24e35f210bcc",
   "metadata": {
    "tags": []
   },
   "source": [
    "```python\n",
    "import numpy as np\n",
    "import pandas as pd\n",
    "\n",
    "class Die():\n",
    "    \"\"\"\n",
    "    This class creates a Die object, changes it's weight, \n",
    "    rolls it, and returns it's current state.\n",
    "    \"\"\"\n",
    "    def __init__(self, faces):\n",
    "        \"\"\"\n",
    "        Initializes faces and weight attributes of die object.\n",
    "        \n",
    "        Takes a \"faces\" input argument that must be a NumPy array\n",
    "        of distinct values (array's data type may by a string, integer, \n",
    "        or float).\n",
    "        \n",
    "        Internally initializes the weights to 1.0 for each face. \n",
    "        \"\"\"  \n",
    "        if type(faces) != np.ndarray:\n",
    "            raise TypeError(\"Faces input must be a NumPy array\")\n",
    "        \n",
    "        if len(faces) != len(np.unique(faces)):\n",
    "            raise ValueError(\"Array values must be distinct\")\n",
    "        \n",
    "        self.faces = faces\n",
    "        self.weights = [1 for i in faces]\n",
    "        self.__die = pd.DataFrame({\n",
    "            \"weights\" : self.weights\n",
    "        }).set_index(self.faces)\n",
    "    \n",
    "    def change_weight(self, face_value, new_weight):\n",
    "        \"\"\"\n",
    "        Changes the weight of a single face of the die object.\n",
    "        \n",
    "        Takes two input arguments: the face value (string or numeric) \n",
    "        to be changed and the new weight (integer or float)\n",
    "        \"\"\"\n",
    "        if face_value not in self.faces:\n",
    "            raise IndexError(\"face_value input is not a valid value\")\n",
    "        \n",
    "        try:\n",
    "            float(new_weight)\n",
    "        except:\n",
    "            raise TypeError(\"new_weight input is not a valid type\")\n",
    "        \n",
    "        self.__die.loc[face_value] = new_weight\n",
    "    \n",
    "    def roll_die(self, num_rolls = 1):\n",
    "        \"\"\"\n",
    "        Rolls the die object one or more times.\n",
    "        \n",
    "        Takes one input argument, num_rolls (integer), which specifies\n",
    "        the number of times the die object is rolled. Defaults to 1.\n",
    "        \n",
    "        Returns a list of subsequent outcomes.\n",
    "        \"\"\"\n",
    "        outcomes = []\n",
    "        for i in range(num_rolls):\n",
    "            outcome = self.__die.sample(weights = self.__die.weights).index[0]\n",
    "            outcomes.append(outcome)\n",
    "        return outcomes\n",
    "    \n",
    "    def current_state(self):\n",
    "        \"\"\"\n",
    "        Shows the die object's current state.\n",
    "        \n",
    "        Returns a data frame of the object's faces and weights.\n",
    "        \"\"\"\n",
    "        return self.__die\n",
    "\n",
    "class Game():\n",
    "    \"\"\"\n",
    "    This class creates a game object. A game consists of rolling one \n",
    "    or more similar dice (Die objects) one or more times.\n",
    "    \"\"\"\n",
    "    def __init__(self, die_list):\n",
    "        \"\"\"\n",
    "        Initializes list of die objects.\n",
    "        \n",
    "        Takes argument die_list (list of Die class objects) of already\n",
    "        instantiated similar dice.\n",
    "        \"\"\"\n",
    "        self.die_list = die_list\n",
    "    \n",
    "    def play_game(self, game_rolls):\n",
    "        \"\"\"\n",
    "        Rolls all dice a specified number of times.\n",
    "        \n",
    "        Takes argument game_rolls (integer) to specify how many times\n",
    "        the die should be rolled.\n",
    "        \"\"\"\n",
    "        outcomes = []\n",
    "        for die in self.die_list:\n",
    "            outcome = die.roll_die(game_rolls)\n",
    "            outcomes.append(outcome)\n",
    "            \n",
    "        self.__outcome_df = pd.DataFrame(outcomes,\n",
    "                                      columns = (\"Roll \" + str(i+1) for i in range(0, game_rolls)),\n",
    "                                      index = (\"Die \" + str(i+1) for i in range(len(self.die_list)))).T\n",
    "    \n",
    "    def game_results(self, form = \"wide\"):\n",
    "        \"\"\"\n",
    "        Returns game results data frame in a specified format.\n",
    "        \n",
    "        Takes argument form (\"wide\" or \"narrow\") that specifies the\n",
    "        format of the returned data frame. Defaults to wide format.\n",
    "        \"\"\"\n",
    "        if form.lower() != \"wide\" and form.lower() != \"narrow\":\n",
    "            raise ValueError(\"form input must be 'wide' or 'narrow'\")\n",
    "        \n",
    "        if form.lower() == \"wide\":\n",
    "            return self.__outcome_df\n",
    "        \n",
    "        if form.lower() == \"narrow\":\n",
    "            narrow_df = self.__outcome_df.reset_index().melt(id_vars = \"index\",\n",
    "                                                             var_name = \"Die Number\",\n",
    "                                                             value_name = \"Outcome\")\n",
    "            narrow_df = narrow_df.set_index(['index','Die Number']).sort_index()\n",
    "            return narrow_df    \n",
    "\n",
    "class Analyzer():\n",
    "    \"\"\"\n",
    "    This class creates an analyzer object which takes the \n",
    "    results of a single game and computes various descriptive\n",
    "    statistical properties about it.\n",
    "    \"\"\"\n",
    "    def __init__(self, game_object):\n",
    "        \"\"\"\n",
    "        Initializes an Analyzer object.\n",
    "        \n",
    "        Takes argument game_object (Game class object), an already instantiated game.\n",
    "        \n",
    "        Initializes a game_object attribute to store the Game object\n",
    "        and an outcomes attribute to store the Game object's results.\n",
    "        \"\"\"\n",
    "        if not isinstance(game_object, Game):\n",
    "            raise ValueError(\"game_object input must be a Game object\")\n",
    "        \n",
    "        self.game_object = game_object\n",
    "        self.outcomes = game_object.game_results()\n",
    "        \n",
    "    def jackpot(self):\n",
    "        \"\"\"\n",
    "        Computes how many times the game resulted in a jackpot\n",
    "        (a result in which all faces are the same).\n",
    "        \n",
    "        Returns the number of jackpots as an integer.\n",
    "        \"\"\"\n",
    "        num_jackpots = self.outcomes.apply(lambda x: len(x.unique()) == 1, axis = 1).sum()\n",
    "        \n",
    "        return num_jackpots\n",
    "    \n",
    "    def face_counts(self):\n",
    "        \"\"\"\n",
    "        Computes how many times a given face is rolled in each event.\n",
    "        \n",
    "        Returns a wide format data frame of the results.\n",
    "        \"\"\"\n",
    "        face_counts_df = self.outcomes.apply(lambda x: x.value_counts(), axis = 1).fillna(0)\n",
    "        \n",
    "        face_counts_df.index = [\"Roll \" + str(i+1) for i in range(0, len(face_counts_df))]\n",
    "        face_counts_df.columns = face_counts_df.columns.sort_values()\n",
    "        \n",
    "        return face_counts_df\n",
    "    \n",
    "    def combo_count(self):\n",
    "        \"\"\"\n",
    "        Computes the distinct combinations (order independent) of faces rolled, \n",
    "        along with their counts.\n",
    "        \n",
    "        Returns a multi-indexed data frame of the distinct combinations and\n",
    "        their associated counts.\n",
    "        \"\"\"\n",
    "        combo_df = self.outcomes.apply(lambda x: x.sort_values(), axis=1, result_type = \"broadcast\")\n",
    "        combo_df = combo_df.groupby([i for i in combo_df.columns]).size().reset_index(name = \"count\")\n",
    "        combo_df = combo_df.set_index([i for i in combo_df.columns])#.sort_values([\"count\"], ascending=False)\n",
    "        \n",
    "        return combo_df\n",
    "        \n",
    "    def perm_count(self):\n",
    "        \"\"\"\n",
    "        Computes the distinct permutations (order dependent) of faces rolled, \n",
    "        along with their counts.\n",
    "        \n",
    "        Returns a multi-indexed data frame of the distinct combination and \n",
    "        their associated counts.\n",
    "        \"\"\"\n",
    "        perm_df = self.outcomes.groupby([i for i in self.outcomes.columns]).size().reset_index(name = \"count\")\n",
    "        perm_df = perm_df.set_index([i for i in self.outcomes.columns])#.sort_values([\"count\"], ascending=False)\n",
    "        \n",
    "        return perm_df\n",
    "```"
   ]
  },
  {
   "cell_type": "markdown",
   "id": "6377727a-8f0a-491e-9f1c-d9dc225edd35",
   "metadata": {},
   "source": [
    "## Unitest Module (2)\n",
    "\n",
    "Paste a copy of your test module below.\n",
    "\n",
    "NOTE: Paste as text, not as code. Use triple backticks to wrap your code blocks.\n",
    "\n",
    "- All methods have at least one test method (1).\n",
    "- Each method employs one of Unittest's Assert methods (1)."
   ]
  },
  {
   "cell_type": "markdown",
   "id": "b75b326c-ae5f-4faa-889e-adcf5714af05",
   "metadata": {},
   "source": [
    "```python\n",
    "import numpy as np\n",
    "import pandas as pd\n",
    "\n",
    "import unittest\n",
    "from montecarlo.montecarlo import Die, Game, Analyzer\n",
    "\n",
    "class MonteCarloTestSuite(unittest.TestCase):\n",
    "\n",
    "    def test_1_Die_init(self):\n",
    "        '''\n",
    "        initialize a die with 3 faces. \n",
    "        test whether faces is an array with distinct values.\n",
    "        '''\n",
    "        faces = np.array(['a','b','c'])\n",
    "        die1 = Die(faces)\n",
    "        \n",
    "        expected = (type(faces) == np.ndarray) & (len(faces) == len(np.unique(faces)))\n",
    "        self.assertTrue(expected)\n",
    "   \n",
    "    def test_2_change_weight(self):\n",
    "        '''\n",
    "        change the weight of one face. \n",
    "        test if the new weight is in the dataframe.\n",
    "        '''\n",
    "        die1 = Die(np.array([1,2,3]))\n",
    "        die1.change_weight(1,5)\n",
    "        \n",
    "        expected = die1.current_state().weights.isin([5]).sum()\n",
    "        self.assertTrue(expected)\n",
    "    \n",
    "    def test_3_roll_die(self):\n",
    "        '''\n",
    "        roll the die twice. \n",
    "        test if the method returns a list of length 2.\n",
    "        '''\n",
    "        die1 = Die(np.array(['x','y','z']))\n",
    "        \n",
    "        expected = isinstance(die1.roll_die(2), list) and len(die1.roll_die(2))==2\n",
    "        self.assertTrue(expected)\n",
    "    \n",
    "    def test_4_current_state(self):\n",
    "        '''\n",
    "        initialize a die with 6 faces. \n",
    "        test if the dataframe returned by current_state() has an index of length 6\n",
    "        '''\n",
    "        die1 = Die(np.array(['this','die','has','six','total','faces']))\n",
    "        \n",
    "        actual = len(die1.current_state())\n",
    "        expected = 6\n",
    "        self.assertEqual(actual, expected)\n",
    "    \n",
    "    def test_5_Game_init(self):\n",
    "        '''\n",
    "        initialize a Game objects. \n",
    "        test if die_list input is a list.\n",
    "        '''\n",
    "        die1 = Die(np.array(['1','2','3']))\n",
    "        die2 = Die(np.array(['1','2','3']))\n",
    "        game1 = Game([die1, die2])\n",
    "        \n",
    "        expected = type(game1.die_list) == list\n",
    "        self.assertTrue(expected)\n",
    "    \n",
    "    def test_6_play_game(self):\n",
    "        '''\n",
    "        play a game with 5 rolls.\n",
    "        test if results are properly stored in a dataframe with an index length of 5\n",
    "        '''\n",
    "        die1 = Die(np.array(['1','2','3']))\n",
    "        die2 = Die(np.array(['1','2','3']))\n",
    "        game1 = Game([die1, die2])\n",
    "        game1.play_game(5)\n",
    "        \n",
    "        expected = (isinstance(game1.game_results(), pd.DataFrame)) & (len(game1.game_results())==5)\n",
    "        self.assertTrue(expected)\n",
    "    \n",
    "    def test_7_game_results(self):\n",
    "        '''\n",
    "        return the game_results in both wide and narrow form.\n",
    "        test if the dataframes are different shapes.\n",
    "        '''\n",
    "        die1 = Die(np.array(['1','2','3']))\n",
    "        die2 = Die(np.array(['1','2','3']))\n",
    "        game1 = Game([die1, die2])\n",
    "        game1.play_game(5)\n",
    "        \n",
    "        wide = game1.game_results(form = \"wide\")\n",
    "        narrow = game1.game_results(form = \"narrow\")\n",
    "        \n",
    "        expected = (wide.shape == narrow.shape)\n",
    "        self.assertFalse(expected)\n",
    "    \n",
    "    def test_8_Analyzer_init(self):\n",
    "        '''\n",
    "        initialize an Analyzer object.\n",
    "        test if outcomes attribute is formatted as a data frame.\n",
    "        '''\n",
    "        die1 = Die(np.array(['1','2','3']))\n",
    "        die2 = Die(np.array(['1','2','3']))\n",
    "        game1 = Game([die1, die2])\n",
    "        game1.play_game(5)\n",
    "        analyzer1 = Analyzer(game1)\n",
    "        \n",
    "        expected = isinstance(analyzer1.outcomes, pd.DataFrame)\n",
    "        self.assertTrue(expected)\n",
    "    \n",
    "    def test_9_jackpot(self):\n",
    "        '''\n",
    "        compute the number of jackpots.\n",
    "        test if resulting output is an numpy integer.\n",
    "        '''\n",
    "        die1 = Die(np.array(['1','2','3']))\n",
    "        die2 = Die(np.array(['1','2','3']))\n",
    "        game1 = Game([die1, die2])\n",
    "        game1.play_game(1000)\n",
    "        analyzer1 = Analyzer(game1)\n",
    "        \n",
    "        expected = isinstance(analyzer1.jackpot(), np.int64)\n",
    "        self.assertTrue(expected)\n",
    "    \n",
    "    def test_10_face_counts(self):\n",
    "        '''\n",
    "        compute the face counts.\n",
    "        test if the resulting dataframe has a column for every die.\n",
    "        '''\n",
    "        die1 = Die(np.array([1,2,3]))\n",
    "        die2 = Die(np.array([1,2,3]))\n",
    "        game1 = Game([die1, die2])\n",
    "        game1.play_game(1000)\n",
    "        analyzer1 = Analyzer(game1)\n",
    "        \n",
    "        expected = analyzer1.face_counts().columns.isin([1,2,3]).all()\n",
    "        self.assertTrue(expected)\n",
    "    \n",
    "    def test_11_combo_count(self):\n",
    "        '''\n",
    "        compute the combinations.\n",
    "        test if the resulting dataframe is multi-indexed.\n",
    "        '''\n",
    "        die1 = Die(np.array([1,2,3]))\n",
    "        die2 = Die(np.array([1,2,3]))\n",
    "        game1 = Game([die1, die2])\n",
    "        game1.play_game(1000)\n",
    "        analyzer1 = Analyzer(game1)\n",
    "        \n",
    "        expected = isinstance(analyzer1.combo_count().index, pd.MultiIndex)\n",
    "        self.assertTrue(expected)\n",
    "    \n",
    "    def test_12_perm_count(self):\n",
    "        '''\n",
    "        compute the permutations.\n",
    "        test if the sum of all the permutation counts is equal to the number of rolls.\n",
    "        '''\n",
    "        die1 = Die(np.array([1,2,3]))\n",
    "        die2 = Die(np.array([1,2,3]))\n",
    "        game1 = Game([die1, die2])\n",
    "        game1.play_game(1000)\n",
    "        analyzer1 = Analyzer(game1)\n",
    "        \n",
    "        self.assertEqual(analyzer1.perm_count()['count'].sum(),1000)\n",
    "\n",
    "if __name__ == '__main__':\n",
    "    \n",
    "    unittest.main(verbosity=3)\n",
    "```"
   ]
  },
  {
   "cell_type": "markdown",
   "id": "3e058d03-29bc-408f-b36d-0605b4f4b8c0",
   "metadata": {
    "tags": []
   },
   "source": [
    "## Unittest Results (3)\n",
    "\n",
    "Put a copy of the results of running your tests from the command line here.\n",
    "\n",
    "Again, paste as text using triple backticks.\n",
    "\n",
    "- All 12 specified methods return OK (3; .25 each)."
   ]
  },
  {
   "cell_type": "markdown",
   "id": "da1bb0d8-2af7-4d80-a8dd-9c492bc24186",
   "metadata": {
    "tags": []
   },
   "source": [
    "```\n",
    "Imported module!!!\n",
    "test_10_face_counts (__main__.MonteCarloTestSuite.test_10_face_counts)\n",
    "compute the face counts. ... ok\n",
    "test_11_combo_count (__main__.MonteCarloTestSuite.test_11_combo_count)\n",
    "compute the combinations. ... ok\n",
    "test_12_perm_count (__main__.MonteCarloTestSuite.test_12_perm_count)\n",
    "compute the permutations. ... ok\n",
    "test_1_Die_init (__main__.MonteCarloTestSuite.test_1_Die_init)\n",
    "initialize a die with 3 faces. ... ok\n",
    "test_2_change_weight (__main__.MonteCarloTestSuite.test_2_change_weight)\n",
    "change the weight of one face. ... ok\n",
    "test_3_roll_die (__main__.MonteCarloTestSuite.test_3_roll_die)\n",
    "roll the die twice. ... ok\n",
    "test_4_current_state (__main__.MonteCarloTestSuite.test_4_current_state)\n",
    "initialize a die with 6 faces. ... ok\n",
    "test_5_Game_init (__main__.MonteCarloTestSuite.test_5_Game_init)\n",
    "initialize a Game objects. ... ok\n",
    "test_6_play_game (__main__.MonteCarloTestSuite.test_6_play_game)\n",
    "play a game with 5 rolls. ... ok\n",
    "test_7_game_results (__main__.MonteCarloTestSuite.test_7_game_results)\n",
    "return the game_results in both wide and narrow form. ... ok\n",
    "test_8_Analyzer_init (__main__.MonteCarloTestSuite.test_8_Analyzer_init)\n",
    "initialize an Analyzer object. ... ok\n",
    "test_9_jackpot (__main__.MonteCarloTestSuite.test_9_jackpot)\n",
    "compute the number of jackpots. ... ok\n",
    "\n",
    "----------------------------------------------------------------------\n",
    "Ran 12 tests in 2.661s\n",
    "\n",
    "OK\n",
    "```"
   ]
  },
  {
   "cell_type": "markdown",
   "id": "d9ffe8c5-eb2f-4ad1-af76-a46550e4c7ac",
   "metadata": {},
   "source": [
    "## Import (1)\n",
    "\n",
    "Import your module here. This import should refer to the code in your package directory.\n",
    "\n",
    "- Module successuflly imported (1)."
   ]
  },
  {
   "cell_type": "code",
   "execution_count": 1,
   "id": "a05dffb3-e6d6-4f78-9df4-5abd0cf74ca9",
   "metadata": {
    "tags": []
   },
   "outputs": [
    {
     "name": "stdout",
     "output_type": "stream",
     "text": [
      "Imported module!!!\n"
     ]
    }
   ],
   "source": [
    "import montecarlo.montecarlo "
   ]
  },
  {
   "cell_type": "markdown",
   "id": "f30c4842-65b1-4556-98b6-3fe1a07e1371",
   "metadata": {},
   "source": [
    "## Help Docs (4)\n",
    "\n",
    "Show your docstring documentation by applying `help()` to your imported module.\n",
    "\n",
    "- All methods have a docstring (3; .25 each).\n",
    "- All classes have a docstring (1; .33 each)."
   ]
  },
  {
   "cell_type": "code",
   "execution_count": 2,
   "id": "bf4fbf1f-9885-471c-a0a6-e9ca90e160de",
   "metadata": {
    "tags": []
   },
   "outputs": [
    {
     "name": "stdout",
     "output_type": "stream",
     "text": [
      "Help on module montecarlo.montecarlo in montecarlo:\n",
      "\n",
      "NAME\n",
      "    montecarlo.montecarlo\n",
      "\n",
      "CLASSES\n",
      "    builtins.object\n",
      "        Analyzer\n",
      "        Die\n",
      "        Game\n",
      "    \n",
      "    class Analyzer(builtins.object)\n",
      "     |  Analyzer(game_object)\n",
      "     |  \n",
      "     |  This class creates an analyzer object which takes the \n",
      "     |  results of a single game and computes various descriptive\n",
      "     |  statistical properties about it.\n",
      "     |  \n",
      "     |  Methods defined here:\n",
      "     |  \n",
      "     |  __init__(self, game_object)\n",
      "     |      Initializes an Analyzer object.\n",
      "     |      \n",
      "     |      Takes argument game_object (Game class object), an already instantiated game.\n",
      "     |      \n",
      "     |      Initializes a game_object attribute to store the Game object\n",
      "     |      and an outcomes attribute to store the Game object's results.\n",
      "     |  \n",
      "     |  combo_count(self)\n",
      "     |      Computes the distinct combinations (order independent) of faces rolled, \n",
      "     |      along with their counts.\n",
      "     |      \n",
      "     |      Returns a multi-indexed data frame of the distinct combinations and\n",
      "     |      their associated counts.\n",
      "     |  \n",
      "     |  face_counts(self)\n",
      "     |      Computes how many times a given face is rolled in each event.\n",
      "     |      \n",
      "     |      Returns a wide format data frame of the results.\n",
      "     |  \n",
      "     |  jackpot(self)\n",
      "     |      Computes how many times the game resulted in a jackpot\n",
      "     |      (a result in which all faces are the same).\n",
      "     |      \n",
      "     |      Returns the number of jackpots as an integer.\n",
      "     |  \n",
      "     |  perm_count(self)\n",
      "     |      Computes the distinct permutations (order dependent) of faces rolled, \n",
      "     |      along with their counts.\n",
      "     |      \n",
      "     |      Returns a multi-indexed data frame of the distinct combination and \n",
      "     |      their associated counts.\n",
      "     |  \n",
      "     |  ----------------------------------------------------------------------\n",
      "     |  Data descriptors defined here:\n",
      "     |  \n",
      "     |  __dict__\n",
      "     |      dictionary for instance variables (if defined)\n",
      "     |  \n",
      "     |  __weakref__\n",
      "     |      list of weak references to the object (if defined)\n",
      "    \n",
      "    class Die(builtins.object)\n",
      "     |  Die(faces)\n",
      "     |  \n",
      "     |  This class creates a Die object, changes it's weight, \n",
      "     |  rolls it, and returns it's current state.\n",
      "     |  \n",
      "     |  Methods defined here:\n",
      "     |  \n",
      "     |  __init__(self, faces)\n",
      "     |      Initializes faces and weight attributes of die object.\n",
      "     |      \n",
      "     |      Takes a \"faces\" input argument that must be a NumPy array\n",
      "     |      of distinct values (array's data type may by a string, integer, \n",
      "     |      or float).\n",
      "     |      \n",
      "     |      Internally initializes the weights to 1.0 for each face.\n",
      "     |  \n",
      "     |  change_weight(self, face_value, new_weight)\n",
      "     |      Changes the weight of a single face of the die object.\n",
      "     |      \n",
      "     |      Takes two input arguments: the face value (string or numeric) \n",
      "     |      to be changed and the new weight (integer or float)\n",
      "     |  \n",
      "     |  current_state(self)\n",
      "     |      Shows the die object's current state.\n",
      "     |      \n",
      "     |      Returns a data frame of the object's faces and weights.\n",
      "     |  \n",
      "     |  roll_die(self, num_rolls=1)\n",
      "     |      Rolls the die object one or more times.\n",
      "     |      \n",
      "     |      Takes one input argument, num_rolls (integer), which specifies\n",
      "     |      the number of times the die object is rolled. Defaults to 1.\n",
      "     |      \n",
      "     |      Returns a list of subsequent outcomes.\n",
      "     |  \n",
      "     |  ----------------------------------------------------------------------\n",
      "     |  Data descriptors defined here:\n",
      "     |  \n",
      "     |  __dict__\n",
      "     |      dictionary for instance variables (if defined)\n",
      "     |  \n",
      "     |  __weakref__\n",
      "     |      list of weak references to the object (if defined)\n",
      "    \n",
      "    class Game(builtins.object)\n",
      "     |  Game(die_list)\n",
      "     |  \n",
      "     |  This class creates a game object. A game consists of rolling one \n",
      "     |  or more similar dice (Die objects) one or more times.\n",
      "     |  \n",
      "     |  Methods defined here:\n",
      "     |  \n",
      "     |  __init__(self, die_list)\n",
      "     |      Initializes list of die objects.\n",
      "     |      \n",
      "     |      Takes argument die_list (list of Die class objects) of already\n",
      "     |      instantiated similar dice.\n",
      "     |  \n",
      "     |  game_results(self, form='wide')\n",
      "     |      Returns game results data frame in a specified format.\n",
      "     |      \n",
      "     |      Takes argument form (\"wide\" or \"narrow\") that specifies the\n",
      "     |      format of the returned data frame. Defaults to wide format.\n",
      "     |  \n",
      "     |  play_game(self, game_rolls)\n",
      "     |      Rolls all dice a specified number of times.\n",
      "     |      \n",
      "     |      Takes argument game_rolls (integer) to specify how many times\n",
      "     |      the die should be rolled.\n",
      "     |  \n",
      "     |  ----------------------------------------------------------------------\n",
      "     |  Data descriptors defined here:\n",
      "     |  \n",
      "     |  __dict__\n",
      "     |      dictionary for instance variables (if defined)\n",
      "     |  \n",
      "     |  __weakref__\n",
      "     |      list of weak references to the object (if defined)\n",
      "\n",
      "FILE\n",
      "    /sfs/qumulo/qhome/lgs4zj/Documents/MSDS/DS5100/DS5100-finalproject-lgs4zj/montecarlo/montecarlo.py\n",
      "\n",
      "\n"
     ]
    }
   ],
   "source": [
    "help(montecarlo.montecarlo)"
   ]
  },
  {
   "cell_type": "markdown",
   "id": "a9defa84-b395-4966-bd1c-5c6c2bb7ed68",
   "metadata": {},
   "source": [
    "## `README.md` File (3)\n",
    "\n",
    "Provide link to the README.md file of your project's repo.\n",
    "\n",
    "- Metadata section or info present (1).\n",
    "- Synopsis section showing how each class is called (1). (All must be included.)\n",
    "- API section listing all classes and methods (1). (All must be included.)"
   ]
  },
  {
   "cell_type": "markdown",
   "id": "ee090b33-d593-48a0-bf35-e739cea0942c",
   "metadata": {},
   "source": [
    "URL: https://github.com/Lucy-Shichman/DS5100-finalproject-lgs4zj/blob/main/README.md"
   ]
  },
  {
   "cell_type": "markdown",
   "id": "108604c8-8827-42ef-ab59-6b25428fc0ca",
   "metadata": {},
   "source": [
    "## Successful installation (2)\n",
    "\n",
    "Put a screenshot or paste a copy of a terminal session where you successfully install your module with pip.\n",
    "\n",
    "If pasting text, use a preformatted text block to show the results.\n",
    "\n",
    "- Installed with `pip` (1).\n",
    "- Successfully installed message appears (1)."
   ]
  },
  {
   "cell_type": "markdown",
   "id": "edf8918d-e8b0-452a-b85a-87e0a4e88cd2",
   "metadata": {},
   "source": [
    "```\n",
    "bash-4.4$pip install -e .\n",
    "Defaulting to user installation because normal site-packages is not writeable\n",
    "Obtaining file:///sfs/qumulo/qhome/lgs4zj/Documents/MSDS/DS5100/DS5100-finalproject-lgs4zj\n",
    "  Preparing metadata (setup.py) ... done\n",
    "Installing collected packages: montecarlo-package\n",
    "  Running setup.py develop for montecarlo-package\n",
    "Successfully installed montecarlo-package-1.0.0\n",
    "\n",
    "```"
   ]
  },
  {
   "cell_type": "markdown",
   "id": "7c44695d-d1b3-4edf-9f94-e64d7446f199",
   "metadata": {},
   "source": [
    "# Scenarios\n",
    "\n",
    "Use code blocks to perform the tasks for each scenario.\n",
    "\n",
    "Be sure the outputs are visible before submitting."
   ]
  },
  {
   "cell_type": "markdown",
   "id": "e2479eae-6fc9-44cd-b8d7-9b22cb501f2a",
   "metadata": {
    "tags": []
   },
   "source": [
    "## Scenario 1: A 2-headed Coin (9)\n",
    "\n",
    "Task 1. Create a fair coin (with faces $H$ and $T$) and one unfair coin in which one of the faces has a weight of $5$ and the others $1$.\n",
    "\n",
    "- Fair coin created (1).\n",
    "- Unfair coin created with weight as specified (1)."
   ]
  },
  {
   "cell_type": "code",
   "execution_count": 2,
   "id": "55ce498e-c75f-4425-9e3e-b635bd6cd9e1",
   "metadata": {
    "tags": []
   },
   "outputs": [
    {
     "name": "stdout",
     "output_type": "stream",
     "text": [
      "Imported module!!!\n"
     ]
    }
   ],
   "source": [
    "import pandas as pd\n",
    "import numpy as np\n",
    "from montecarlo.montecarlo import Die, Game, Analyzer\n",
    "\n",
    "fair_coin = Die(np.array(['H','T']))\n",
    "\n",
    "unfair_coin = Die(np.array(['H','T']))\n",
    "unfair_coin.change_weight('H', 5)"
   ]
  },
  {
   "cell_type": "markdown",
   "id": "02b272ab-99da-4b6e-ac2a-555b73e09c07",
   "metadata": {},
   "source": [
    "Task 2. Play a game of $1000$ flips with two fair dice.\n",
    "\n",
    "- Play method called correclty and without error (1)."
   ]
  },
  {
   "cell_type": "code",
   "execution_count": 5,
   "id": "65c92601-d32d-4326-b215-74953aee27f2",
   "metadata": {
    "tags": []
   },
   "outputs": [],
   "source": [
    "fair_coin2 = Die(np.array(['H','T']))\n",
    "fair_game = Game([fair_coin, fair_coin2])\n",
    "\n",
    "fair_game.play_game(1000)"
   ]
  },
  {
   "cell_type": "markdown",
   "id": "7d9c3dc8-22c1-4cae-81fb-d68d774a05d1",
   "metadata": {},
   "source": [
    "Task 3. Play another game (using a new Game object) of $1000$ flips, this time using two unfair dice and one fair die. For the second unfair die, you can use the same die object twice in the list of dice you pass to the Game object.\n",
    "\n",
    "- New game object created (1).\n",
    "- Play method called correclty and without error (1)."
   ]
  },
  {
   "cell_type": "code",
   "execution_count": 6,
   "id": "d4098bed-1eb2-4084-8d5e-9fda07c3be43",
   "metadata": {
    "tags": []
   },
   "outputs": [],
   "source": [
    "unfair_coin2 = Die(np.array(['H','T']))\n",
    "unfair_coin2.change_weight('H', 5)\n",
    "\n",
    "unfair_game = Game([unfair_coin, unfair_coin2])\n",
    "unfair_game.play_game(1000)"
   ]
  },
  {
   "cell_type": "markdown",
   "id": "f690ebfc-fe71-4eb2-976d-7ac80ca6c23f",
   "metadata": {},
   "source": [
    "Task 4. For each game, use an Analyzer object to determine the raw frequency of jackpots — i.e. getting either all $H$s or all $T$s.\n",
    "\n",
    "- Analyzer objecs instantiated for both games (1).\n",
    "- Raw frequencies reported for both (1)."
   ]
  },
  {
   "cell_type": "code",
   "execution_count": 7,
   "id": "b26b8b7e-3be7-4476-a9a4-37d97536729e",
   "metadata": {
    "tags": []
   },
   "outputs": [
    {
     "name": "stdout",
     "output_type": "stream",
     "text": [
      "Fair game jackpots: 483\n",
      "Unfair game jackpots: 722\n"
     ]
    }
   ],
   "source": [
    "analyzer_fair = Analyzer(fair_game)\n",
    "analyzer_unfair = Analyzer(unfair_game)\n",
    "\n",
    "print('Fair game jackpots: ' + str(analyzer_fair.jackpot()))\n",
    "print('Unfair game jackpots: ' + str(analyzer_unfair.jackpot()))"
   ]
  },
  {
   "cell_type": "markdown",
   "id": "b73d233c-445e-40cd-8858-0c5e1f097105",
   "metadata": {},
   "source": [
    "Task 5. For each analyzer, compute relative frequency as the number of jackpots over the total number of rolls.\n",
    "\n",
    "- Both relative frequencies computed (1)."
   ]
  },
  {
   "cell_type": "code",
   "execution_count": 8,
   "id": "9a96b31b-1b9d-496e-be3e-4bf83c45ec3a",
   "metadata": {
    "tags": []
   },
   "outputs": [
    {
     "name": "stdout",
     "output_type": "stream",
     "text": [
      "Fair game relative frequency of jackpots: 0.483\n",
      "Unfair game relative frequency of jackpots: 0.722\n"
     ]
    }
   ],
   "source": [
    "fair_rel_freq = analyzer_fair.jackpot()/1000\n",
    "unfair_rel_freq = analyzer_unfair.jackpot()/1000\n",
    "\n",
    "print('Fair game relative frequency of jackpots: ' + str(fair_rel_freq))\n",
    "print('Unfair game relative frequency of jackpots: ' + str(unfair_rel_freq))"
   ]
  },
  {
   "cell_type": "markdown",
   "id": "a6e1e734-7f5c-4721-8ba4-2f3a424cf984",
   "metadata": {},
   "source": [
    "Task 6. Show your results, comparing the two relative frequencies, in a simple bar chart.\n",
    "\n",
    "- Bar chart plotted and correct (1)."
   ]
  },
  {
   "cell_type": "code",
   "execution_count": 9,
   "id": "473fa67c-aa53-4aa3-a0b7-e8772b3f6ed3",
   "metadata": {
    "tags": []
   },
   "outputs": [
    {
     "data": {
      "image/png": "[encoded data removed]",
      "text/plain": [
       "<Figure size 640x480 with 1 Axes>"
      ]
     },
     "metadata": {},
     "output_type": "display_data"
    }
   ],
   "source": [
    "import matplotlib.pyplot as plt\n",
    "\n",
    "plt.bar(['fair', 'unfair'],[fair_rel_freq, unfair_rel_freq])\n",
    "plt.title('Relative Frequency of Jackpots');"
   ]
  },
  {
   "cell_type": "markdown",
   "id": "725cfa5b-e4b7-47c9-86aa-8d9e1fe6c8c7",
   "metadata": {},
   "source": [
    "## Scenario 2: A 6-sided Die (9)\n",
    "\n",
    "Task 1. Create three dice, each with six sides having the faces 1 through 6.\n",
    "\n",
    "- Three die objects created (1)."
   ]
  },
  {
   "cell_type": "code",
   "execution_count": 10,
   "id": "6a8bc611-325a-4e05-88d5-980e0a2cf7c5",
   "metadata": {
    "tags": []
   },
   "outputs": [],
   "source": [
    "die1 = Die(np.array(['1','2','3','4','5','6']))\n",
    "die2 = Die(np.array(['1','2','3','4','5','6']))\n",
    "die3 = Die(np.array(['1','2','3','4','5','6']))"
   ]
  },
  {
   "cell_type": "markdown",
   "id": "2ed3ad26-fbe9-43bd-9ad7-f683a4191d12",
   "metadata": {},
   "source": [
    "Task 2. Convert one of the dice to an unfair one by weighting the face $6$ five times more than the other weights (i.e. it has weight of 5 and the others a weight of 1 each).\n",
    "\n",
    "- Unfair die created with proper call to weight change method (1)."
   ]
  },
  {
   "cell_type": "code",
   "execution_count": 11,
   "id": "e33dd18f-7f90-456d-a680-61c08a328e21",
   "metadata": {
    "tags": []
   },
   "outputs": [],
   "source": [
    "die1.change_weight('6', 5)"
   ]
  },
  {
   "cell_type": "markdown",
   "id": "7f6c062a-4c5b-45b9-96b8-76a0354c7e47",
   "metadata": {},
   "source": [
    "Task 3. Convert another of the dice to be unfair by weighting the face $1$ five times more than the others.\n",
    "\n",
    "- Unfair die created with proper call to weight change method (1)."
   ]
  },
  {
   "cell_type": "code",
   "execution_count": 12,
   "id": "01133a4e-6b06-4246-8d90-8e6d6995be51",
   "metadata": {
    "tags": []
   },
   "outputs": [],
   "source": [
    "die2.change_weight('1', 5)"
   ]
  },
  {
   "cell_type": "markdown",
   "id": "f0ed31cb-0a3c-4eb2-b85e-6ed6b2eb6e58",
   "metadata": {},
   "source": [
    "Task 4. Play a game of $10000$ rolls with $5$ fair dice.\n",
    "\n",
    "- Game class properly instantiated (1). \n",
    "- Play method called properly (1)."
   ]
  },
  {
   "cell_type": "code",
   "execution_count": 13,
   "id": "e92395a4-9ed8-4cb0-8c85-38768a784ffc",
   "metadata": {
    "tags": []
   },
   "outputs": [
    {
     "data": {
      "text/html": [
       "<div>\n",
       "<style scoped>\n",
       "    .dataframe tbody tr th:only-of-type {\n",
       "        vertical-align: middle;\n",
       "    }\n",
       "\n",
       "    .dataframe tbody tr th {\n",
       "        vertical-align: top;\n",
       "    }\n",
       "\n",
       "    .dataframe thead th {\n",
       "        text-align: right;\n",
       "    }\n",
       "</style>\n",
       "<table border=\"1\" class=\"dataframe\">\n",
       "  <thead>\n",
       "    <tr style=\"text-align: right;\">\n",
       "      <th></th>\n",
       "      <th>Die 1</th>\n",
       "      <th>Die 2</th>\n",
       "      <th>Die 3</th>\n",
       "      <th>Die 4</th>\n",
       "      <th>Die 5</th>\n",
       "      <th>Die 6</th>\n",
       "    </tr>\n",
       "  </thead>\n",
       "  <tbody>\n",
       "    <tr>\n",
       "      <th>Roll 1</th>\n",
       "      <td>3</td>\n",
       "      <td>1</td>\n",
       "      <td>5</td>\n",
       "      <td>4</td>\n",
       "      <td>2</td>\n",
       "      <td>3</td>\n",
       "    </tr>\n",
       "    <tr>\n",
       "      <th>Roll 2</th>\n",
       "      <td>5</td>\n",
       "      <td>3</td>\n",
       "      <td>6</td>\n",
       "      <td>6</td>\n",
       "      <td>5</td>\n",
       "      <td>1</td>\n",
       "    </tr>\n",
       "    <tr>\n",
       "      <th>Roll 3</th>\n",
       "      <td>5</td>\n",
       "      <td>6</td>\n",
       "      <td>5</td>\n",
       "      <td>4</td>\n",
       "      <td>2</td>\n",
       "      <td>2</td>\n",
       "    </tr>\n",
       "    <tr>\n",
       "      <th>Roll 4</th>\n",
       "      <td>4</td>\n",
       "      <td>1</td>\n",
       "      <td>4</td>\n",
       "      <td>2</td>\n",
       "      <td>3</td>\n",
       "      <td>1</td>\n",
       "    </tr>\n",
       "    <tr>\n",
       "      <th>Roll 5</th>\n",
       "      <td>6</td>\n",
       "      <td>2</td>\n",
       "      <td>1</td>\n",
       "      <td>2</td>\n",
       "      <td>3</td>\n",
       "      <td>2</td>\n",
       "    </tr>\n",
       "    <tr>\n",
       "      <th>...</th>\n",
       "      <td>...</td>\n",
       "      <td>...</td>\n",
       "      <td>...</td>\n",
       "      <td>...</td>\n",
       "      <td>...</td>\n",
       "      <td>...</td>\n",
       "    </tr>\n",
       "    <tr>\n",
       "      <th>Roll 9996</th>\n",
       "      <td>6</td>\n",
       "      <td>3</td>\n",
       "      <td>5</td>\n",
       "      <td>4</td>\n",
       "      <td>6</td>\n",
       "      <td>1</td>\n",
       "    </tr>\n",
       "    <tr>\n",
       "      <th>Roll 9997</th>\n",
       "      <td>2</td>\n",
       "      <td>1</td>\n",
       "      <td>5</td>\n",
       "      <td>3</td>\n",
       "      <td>6</td>\n",
       "      <td>1</td>\n",
       "    </tr>\n",
       "    <tr>\n",
       "      <th>Roll 9998</th>\n",
       "      <td>3</td>\n",
       "      <td>2</td>\n",
       "      <td>2</td>\n",
       "      <td>1</td>\n",
       "      <td>2</td>\n",
       "      <td>5</td>\n",
       "    </tr>\n",
       "    <tr>\n",
       "      <th>Roll 9999</th>\n",
       "      <td>3</td>\n",
       "      <td>5</td>\n",
       "      <td>3</td>\n",
       "      <td>4</td>\n",
       "      <td>5</td>\n",
       "      <td>3</td>\n",
       "    </tr>\n",
       "    <tr>\n",
       "      <th>Roll 10000</th>\n",
       "      <td>3</td>\n",
       "      <td>5</td>\n",
       "      <td>6</td>\n",
       "      <td>1</td>\n",
       "      <td>3</td>\n",
       "      <td>4</td>\n",
       "    </tr>\n",
       "  </tbody>\n",
       "</table>\n",
       "<p>10000 rows × 6 columns</p>\n",
       "</div>"
      ],
      "text/plain": [
       "           Die 1 Die 2 Die 3 Die 4 Die 5 Die 6\n",
       "Roll 1         3     1     5     4     2     3\n",
       "Roll 2         5     3     6     6     5     1\n",
       "Roll 3         5     6     5     4     2     2\n",
       "Roll 4         4     1     4     2     3     1\n",
       "Roll 5         6     2     1     2     3     2\n",
       "...          ...   ...   ...   ...   ...   ...\n",
       "Roll 9996      6     3     5     4     6     1\n",
       "Roll 9997      2     1     5     3     6     1\n",
       "Roll 9998      3     2     2     1     2     5\n",
       "Roll 9999      3     5     3     4     5     3\n",
       "Roll 10000     3     5     6     1     3     4\n",
       "\n",
       "[10000 rows x 6 columns]"
      ]
     },
     "execution_count": 13,
     "metadata": {},
     "output_type": "execute_result"
    }
   ],
   "source": [
    "fair_game2 = Game([die3, die3, die3, die3, die3, die3])\n",
    "fair_game2.play_game(10000)\n",
    "fair_game2.game_results()"
   ]
  },
  {
   "cell_type": "markdown",
   "id": "7814b402-46a4-40e5-8141-20e05c3e646b",
   "metadata": {},
   "source": [
    "Task 5. Play another game of $10000$ rolls, this time with $2$ unfair dice, one as defined in steps #2 and #3 respectively, and $3$ fair dice.\n",
    "\n",
    "- Game class properly instantiated (1). \n",
    "- Play method called properly (1)."
   ]
  },
  {
   "cell_type": "code",
   "execution_count": 14,
   "id": "7cd58fba-b2a5-4d5d-bc6d-2a7a68d18c4f",
   "metadata": {
    "tags": []
   },
   "outputs": [
    {
     "data": {
      "text/html": [
       "<div>\n",
       "<style scoped>\n",
       "    .dataframe tbody tr th:only-of-type {\n",
       "        vertical-align: middle;\n",
       "    }\n",
       "\n",
       "    .dataframe tbody tr th {\n",
       "        vertical-align: top;\n",
       "    }\n",
       "\n",
       "    .dataframe thead th {\n",
       "        text-align: right;\n",
       "    }\n",
       "</style>\n",
       "<table border=\"1\" class=\"dataframe\">\n",
       "  <thead>\n",
       "    <tr style=\"text-align: right;\">\n",
       "      <th></th>\n",
       "      <th>Die 1</th>\n",
       "      <th>Die 2</th>\n",
       "      <th>Die 3</th>\n",
       "      <th>Die 4</th>\n",
       "      <th>Die 5</th>\n",
       "    </tr>\n",
       "  </thead>\n",
       "  <tbody>\n",
       "    <tr>\n",
       "      <th>Roll 1</th>\n",
       "      <td>5</td>\n",
       "      <td>1</td>\n",
       "      <td>4</td>\n",
       "      <td>3</td>\n",
       "      <td>6</td>\n",
       "    </tr>\n",
       "    <tr>\n",
       "      <th>Roll 2</th>\n",
       "      <td>1</td>\n",
       "      <td>1</td>\n",
       "      <td>6</td>\n",
       "      <td>2</td>\n",
       "      <td>6</td>\n",
       "    </tr>\n",
       "    <tr>\n",
       "      <th>Roll 3</th>\n",
       "      <td>6</td>\n",
       "      <td>5</td>\n",
       "      <td>6</td>\n",
       "      <td>3</td>\n",
       "      <td>2</td>\n",
       "    </tr>\n",
       "    <tr>\n",
       "      <th>Roll 4</th>\n",
       "      <td>6</td>\n",
       "      <td>1</td>\n",
       "      <td>1</td>\n",
       "      <td>1</td>\n",
       "      <td>4</td>\n",
       "    </tr>\n",
       "    <tr>\n",
       "      <th>Roll 5</th>\n",
       "      <td>6</td>\n",
       "      <td>1</td>\n",
       "      <td>3</td>\n",
       "      <td>5</td>\n",
       "      <td>4</td>\n",
       "    </tr>\n",
       "    <tr>\n",
       "      <th>...</th>\n",
       "      <td>...</td>\n",
       "      <td>...</td>\n",
       "      <td>...</td>\n",
       "      <td>...</td>\n",
       "      <td>...</td>\n",
       "    </tr>\n",
       "    <tr>\n",
       "      <th>Roll 9996</th>\n",
       "      <td>6</td>\n",
       "      <td>1</td>\n",
       "      <td>2</td>\n",
       "      <td>2</td>\n",
       "      <td>1</td>\n",
       "    </tr>\n",
       "    <tr>\n",
       "      <th>Roll 9997</th>\n",
       "      <td>3</td>\n",
       "      <td>4</td>\n",
       "      <td>2</td>\n",
       "      <td>2</td>\n",
       "      <td>2</td>\n",
       "    </tr>\n",
       "    <tr>\n",
       "      <th>Roll 9998</th>\n",
       "      <td>6</td>\n",
       "      <td>1</td>\n",
       "      <td>4</td>\n",
       "      <td>6</td>\n",
       "      <td>1</td>\n",
       "    </tr>\n",
       "    <tr>\n",
       "      <th>Roll 9999</th>\n",
       "      <td>3</td>\n",
       "      <td>1</td>\n",
       "      <td>4</td>\n",
       "      <td>6</td>\n",
       "      <td>4</td>\n",
       "    </tr>\n",
       "    <tr>\n",
       "      <th>Roll 10000</th>\n",
       "      <td>3</td>\n",
       "      <td>2</td>\n",
       "      <td>1</td>\n",
       "      <td>2</td>\n",
       "      <td>2</td>\n",
       "    </tr>\n",
       "  </tbody>\n",
       "</table>\n",
       "<p>10000 rows × 5 columns</p>\n",
       "</div>"
      ],
      "text/plain": [
       "           Die 1 Die 2 Die 3 Die 4 Die 5\n",
       "Roll 1         5     1     4     3     6\n",
       "Roll 2         1     1     6     2     6\n",
       "Roll 3         6     5     6     3     2\n",
       "Roll 4         6     1     1     1     4\n",
       "Roll 5         6     1     3     5     4\n",
       "...          ...   ...   ...   ...   ...\n",
       "Roll 9996      6     1     2     2     1\n",
       "Roll 9997      3     4     2     2     2\n",
       "Roll 9998      6     1     4     6     1\n",
       "Roll 9999      3     1     4     6     4\n",
       "Roll 10000     3     2     1     2     2\n",
       "\n",
       "[10000 rows x 5 columns]"
      ]
     },
     "execution_count": 14,
     "metadata": {},
     "output_type": "execute_result"
    }
   ],
   "source": [
    "unfair_game2 = Game([die1, die2, die3, die3, die3])\n",
    "unfair_game2.play_game(10000)\n",
    "unfair_game2.game_results()"
   ]
  },
  {
   "cell_type": "markdown",
   "id": "7b6cd372-2bb8-4df8-ade1-8f48bc300955",
   "metadata": {},
   "source": [
    "Task 6. For each game, use an Analyzer object to determine the relative frequency of jackpots and show your results, comparing the two relative frequencies, in a simple bar chart.\n",
    "\n",
    "- Jackpot methods called (1).\n",
    "- Graph produced (1)."
   ]
  },
  {
   "cell_type": "code",
   "execution_count": 15,
   "id": "bbdcf695-8937-406e-9b53-aa0b9ee3c59a",
   "metadata": {
    "tags": []
   },
   "outputs": [
    {
     "data": {
      "image/png": "[encoded data removed]",
      "text/plain": [
       "<Figure size 640x480 with 1 Axes>"
      ]
     },
     "metadata": {},
     "output_type": "display_data"
    }
   ],
   "source": [
    "fair_analyzer2 = Analyzer(fair_game2)\n",
    "unfair_analyzer2 = Analyzer(unfair_game2)\n",
    "\n",
    "fair_rel_freq2 = fair_analyzer2.jackpot()/10000\n",
    "unfair_rel_freq2 = unfair_analyzer2.jackpot()/10000\n",
    "\n",
    "plt.bar(['fair','unfair'],[fair_rel_freq2, unfair_rel_freq2])\n",
    "plt.title('Relative Frequencies of a Jackpot');"
   ]
  },
  {
   "cell_type": "markdown",
   "id": "9f04e9be-8fcf-4ea4-a391-6614608285f8",
   "metadata": {},
   "source": [
    "## Scenario 3: Letters of the Alphabet (7)\n",
    "\n",
    "Task 1. Create a \"die\" of letters from $A$ to $Z$ with weights based on their frequency of usage as found in the data file `english_letters.txt`. Use the frequencies (i.e. raw counts) as weights.\n",
    "\n",
    "- Die correctly instantiated with source file data (1).\n",
    "- Weights properly applied using weight setting method (1)."
   ]
  },
  {
   "cell_type": "code",
   "execution_count": 36,
   "id": "b0ceb771-3cdf-4d8f-8c2c-020806bbb909",
   "metadata": {
    "tags": []
   },
   "outputs": [],
   "source": [
    "english_letters = pd.read_csv('english_letters.txt', header=None, sep=' ')\n",
    "letter_die = Die(np.array([i for i in english_letters[0]]))\n",
    "\n",
    "english_letters = english_letters.set_index([english_letters[0]])\n",
    "english_letters.columns = ['letter','weight']\n",
    "\n",
    "for i in letter_die.faces:\n",
    "    letter_die.change_weight(i, english_letters.weight[i])"
   ]
  },
  {
   "cell_type": "markdown",
   "id": "88e2e14a-6223-470a-a2c8-bca1120d7a5b",
   "metadata": {},
   "source": [
    "Task 2. Play a game involving $4$ of these dice with $1000$ rolls.\n",
    "\n",
    "- Game play method properly called (1)."
   ]
  },
  {
   "cell_type": "code",
   "execution_count": 37,
   "id": "2ae087cc-936d-4f1e-bddb-a7c179d139e0",
   "metadata": {},
   "outputs": [],
   "source": [
    "letter_game = Game([letter_die, letter_die, letter_die, letter_die])\n",
    "letter_game.play_game(1000)"
   ]
  },
  {
   "cell_type": "markdown",
   "id": "3b9ff800-bf1f-4f66-9d7f-ff57a648e9f0",
   "metadata": {},
   "source": [
    "Task 3. Determine how many permutations in your results are actual English words, based on the vocabulary found in `scrabble_words.txt`.\n",
    "\n",
    "- Use permutation method (1).\n",
    "- Get count as difference between permutations and vocabulary (1)."
   ]
  },
  {
   "cell_type": "code",
   "execution_count": 114,
   "id": "ed1c7fa0-cfa3-4cf4-9fd0-9f84b86b0f64",
   "metadata": {},
   "outputs": [],
   "source": [
    "letter_analyzer = Analyzer(letter_game)\n",
    "results_df = letter_analyzer.perm_count()\n",
    "results_df['word'] = results_df.index.map(''.join)"
   ]
  },
  {
   "cell_type": "code",
   "execution_count": 115,
   "id": "54558e57-f0bd-4bc5-bc64-a22c528d1880",
   "metadata": {
    "tags": []
   },
   "outputs": [
    {
     "data": {
      "text/plain": [
       "44"
      ]
     },
     "execution_count": 115,
     "metadata": {},
     "output_type": "execute_result"
    }
   ],
   "source": [
    "scrabble = pd.read_csv('scrabble_words.txt', header=None)\n",
    "\n",
    "results_set = set(results_df.word)\n",
    "scrabble_set = set(scrabble.iloc[:,0])\n",
    "\n",
    "len(results_set.intersection(scrabble_set))"
   ]
  },
  {
   "cell_type": "markdown",
   "id": "fcf068cf-381a-4b3e-ac3a-0510eb4dbdb0",
   "metadata": {},
   "source": [
    "Task 4. Repeat steps #2 and #3, this time with $5$ dice. How many actual words does this produce? Which produces more?\n",
    "\n",
    "- Successfully repreats steps (1).\n",
    "- Identifies parameter with most found words (1)."
   ]
  },
  {
   "cell_type": "code",
   "execution_count": 122,
   "id": "2221c614-94b1-4020-82ca-2039e10b7f5b",
   "metadata": {
    "tags": []
   },
   "outputs": [],
   "source": [
    "letter_game = Game([letter_die for i in range(5)])\n",
    "letter_game.play_game(1000)"
   ]
  },
  {
   "cell_type": "code",
   "execution_count": 123,
   "id": "9735b907-5106-4cfd-829d-ef680c412c56",
   "metadata": {
    "tags": []
   },
   "outputs": [],
   "source": [
    "letter_analyzer = Analyzer(letter_game)\n",
    "results_df = letter_analyzer.perm_count()\n",
    "results_df['word'] = results_df.index.map(''.join)"
   ]
  },
  {
   "cell_type": "code",
   "execution_count": 124,
   "id": "85bda4e5-59f2-47cf-95ab-bd45845db327",
   "metadata": {
    "tags": []
   },
   "outputs": [
    {
     "data": {
      "text/plain": [
       "9"
      ]
     },
     "execution_count": 124,
     "metadata": {},
     "output_type": "execute_result"
    }
   ],
   "source": [
    "results_set = set(results_df.word)\n",
    "scrabble_set = set(scrabble.iloc[:,0])\n",
    "\n",
    "len(results_set.intersection(scrabble_set))"
   ]
  },
  {
   "cell_type": "markdown",
   "id": "9bd493b5-3752-4d1a-9845-dfb8fe90c71a",
   "metadata": {},
   "source": [
    "The game with 4 die produces more words than the game with 5 die."
   ]
  },
  {
   "cell_type": "code",
   "execution_count": null,
   "id": "4b8d1874-4262-4465-a91d-926900ccb64b",
   "metadata": {},
   "outputs": [],
   "source": []
  }
 ],
 "metadata": {
  "kernelspec": {
   "display_name": "Python 3 (ipykernel)",
   "language": "python",
   "name": "python3"
  },
  "language_info": {
   "codemirror_mode": {
    "name": "ipython",
    "version": 3
   },
   "file_extension": ".py",
   "mimetype": "text/x-python",
   "name": "python",
   "nbconvert_exporter": "python",
   "pygments_lexer": "ipython3",
   "version": "3.11.4"
  },
  "toc-autonumbering": true,
  "widgets": {
   "application/vnd.jupyter.widget-state+json": {
    "state": {},
    "version_major": 2,
    "version_minor": 0
   }
  }
 },
 "nbformat": 4,
 "nbformat_minor": 5
}
